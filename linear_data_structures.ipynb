{
  "nbformat": 4,
  "nbformat_minor": 0,
  "metadata": {
    "colab": {
      "provenance": [],
      "authorship_tag": "ABX9TyOpKAzl0sh6yhGw/g+6a6cF",
      "include_colab_link": true
    },
    "kernelspec": {
      "name": "python3",
      "display_name": "Python 3"
    },
    "language_info": {
      "name": "python"
    }
  },
  "cells": [
    {
      "cell_type": "markdown",
      "metadata": {
        "id": "view-in-github",
        "colab_type": "text"
      },
      "source": [
        "<a href=\"https://colab.research.google.com/github/SuryARavichan/Linear-Data-Structures/blob/main/linear_data_structures.ipynb\" target=\"_parent\"><img src=\"https://colab.research.google.com/assets/colab-badge.svg\" alt=\"Open In Colab\"/></a>"
      ]
    },
    {
      "cell_type": "markdown",
      "source": [
        "Q1. Write a program to find all pairs of an integer array whose sum is equal to a given number?"
      ],
      "metadata": {
        "id": "jF4hmoKydlcC"
      }
    },
    {
      "cell_type": "code",
      "source": [
        "def find_pairs(arr, target):\n",
        "    pairs = []\n",
        "    seen = set()\n",
        "    \n",
        "    for num in arr:\n",
        "        complement = target - num\n",
        "        if complement in seen:\n",
        "            pairs.append((complement, num))\n",
        "        seen.add(num)\n",
        "        \n",
        "    return pairs\n"
      ],
      "metadata": {
        "id": "XERMYteYdl-d"
      },
      "execution_count": 1,
      "outputs": []
    },
    {
      "cell_type": "markdown",
      "source": [
        "Q2. Write a program to reverse an array in place? In place means you cannot create a new array. You have to update the original array."
      ],
      "metadata": {
        "id": "ObyDReBkeAhU"
      }
    },
    {
      "cell_type": "code",
      "source": [
        "def reverse_array(arr):\n",
        "  left = 0\n",
        "  right = len(arr) - 1\n",
        "\n",
        "  while left < right:\n",
        "    arr[left],arr[right] = arr[right],arr[left]\n",
        "    left = left+1\n",
        "    right = right+1"
      ],
      "metadata": {
        "id": "i76OzGYdd9JP"
      },
      "execution_count": 3,
      "outputs": []
    },
    {
      "cell_type": "markdown",
      "source": [
        "\n",
        "Q3. Write a program to check if two strings are a rotation of each other?"
      ],
      "metadata": {
        "id": "PoYEGaEffMWc"
      }
    },
    {
      "cell_type": "code",
      "source": [
        "def is_rotation(str1,str2):\n",
        "  if len(str1)!= len(str2):\n",
        "    return False\n",
        "  concatenated = str1 + str2\n",
        "  if str2 in concatenated:\n",
        "    return True\n",
        "  else:\n",
        "    return False"
      ],
      "metadata": {
        "id": "KVndnfgde6ZH"
      },
      "execution_count": 4,
      "outputs": []
    },
    {
      "cell_type": "markdown",
      "source": [
        "Q4. Write a program to print the first non-repeated character from a string?"
      ],
      "metadata": {
        "id": "2OWxiwXRfsG2"
      }
    },
    {
      "cell_type": "code",
      "source": [
        "def non_repeat(string):\n",
        "  char_count={}\n",
        "  for char in string:\n",
        "    if char in char_count:\n",
        "      char_count[char] = char_count[char]+1\n",
        "    else:\n",
        "      char_count[char] = 1\n",
        "  for char in string:\n",
        "    if char_count[char] == 1:\n",
        "      return char\n",
        "  return None"
      ],
      "metadata": {
        "id": "dtdDSikffpAl"
      },
      "execution_count": 5,
      "outputs": []
    },
    {
      "cell_type": "markdown",
      "source": [
        "Q5. Read about the Tower of Hanoi algorithm. Write a program to implement it."
      ],
      "metadata": {
        "id": "1t8XgxM_hMld"
      }
    },
    {
      "cell_type": "code",
      "source": [
        "def tower_of_hanoi(n,source,destination,auxiliary):\n",
        "  if n==1:\n",
        "    print('move disk1 from {source} to {destination}')\n",
        "    return \n",
        "  tower_of_hanoi(n-1,source,destination,auxiliary)\n",
        "  print('move disk from {source} to {destination}')\n",
        "  tower_of_hanoi(n,source,destination,auxiliary)\n",
        "\n"
      ],
      "metadata": {
        "id": "MzqsodR5gqvl"
      },
      "execution_count": 6,
      "outputs": []
    },
    {
      "cell_type": "markdown",
      "source": [
        "Q6. Read about infix, prefix, and postfix expressions. Write a program to convert postfix to prefix expression."
      ],
      "metadata": {
        "id": "kVeRotZOiqq_"
      }
    },
    {
      "cell_type": "code",
      "source": [
        "def postfix_to_prefix(postfix):\n",
        "  stack=[]\n",
        "  operators=set(['+','-','*','/','^'])\n",
        "  for char in postfix:\n",
        "    if char not in operators:\n",
        "      stack.append(char)\n",
        "    else:\n",
        "      operand2=stack.pop()\n",
        "      operand1=stack.pop()\n",
        "      new_prefix=char+operand1+operand2\n",
        "      stack.append(new_prefix)\n",
        "    return stack.pop()"
      ],
      "metadata": {
        "id": "frRGI2mNiHDz"
      },
      "execution_count": 8,
      "outputs": []
    },
    {
      "cell_type": "markdown",
      "source": [
        "\n",
        "Q7. Write a program to convert prefix expression to infix expression.\n"
      ],
      "metadata": {
        "id": "dTa2bRKRr2df"
      }
    },
    {
      "cell_type": "code",
      "source": [
        "postfix = '23+45+^'\n",
        "prefix = postfix_to_prefix(postfix)\n",
        "print(f\"The prefix expression for '{postfix}' is '{prefix}'.\")\n"
      ],
      "metadata": {
        "colab": {
          "base_uri": "https://localhost:8080/"
        },
        "id": "UeCm3kIujh8u",
        "outputId": "7001fa57-0ed4-4c58-afee-cf3d9982d05f"
      },
      "execution_count": 13,
      "outputs": [
        {
          "output_type": "stream",
          "name": "stdout",
          "text": [
            "The prefix expression for '23+45+^' is '2'.\n"
          ]
        }
      ]
    },
    {
      "cell_type": "markdown",
      "source": [
        "Q8. Write a program to check if all the brackets are closed in a given code snippet."
      ],
      "metadata": {
        "id": "a340fvR6tLpF"
      }
    },
    {
      "cell_type": "code",
      "source": [
        "def check_brackets(code):\n",
        "    stack = []\n",
        "    for c in code:\n",
        "        if c in '([{':\n",
        "            stack.append(c)\n",
        "        elif c in ')]}':\n",
        "            if not stack:\n",
        "                return False\n",
        "            elif c == ')' and stack[-1] == '(' or \\\n",
        "                 c == ']' and stack[-1] == '[' or \\\n",
        "                 c == '}' and stack[-1] == '{':\n",
        "                stack.pop()\n",
        "            else:\n",
        "                return False\n",
        "    return not stack\n"
      ],
      "metadata": {
        "id": "22u8tWRPsugd"
      },
      "execution_count": 14,
      "outputs": []
    },
    {
      "cell_type": "markdown",
      "source": [
        "Q9. Write a program to reverse a stack.\n"
      ],
      "metadata": {
        "id": "t2nlkUN5tYa-"
      }
    },
    {
      "cell_type": "code",
      "source": [
        "def reverse_stack(stack):\n",
        "    if not stack:\n",
        "        return\n",
        "    temp = stack.pop()\n",
        "    reverse_stack(stack)\n",
        "    insert_at_bottom(stack, temp)\n",
        "\n",
        "def insert_at_bottom(stack, item):\n",
        "    if not stack:\n",
        "        stack.append(item)\n",
        "        return\n",
        "    temp = stack.pop()\n",
        "    insert_at_bottom(stack, item)\n",
        "    stack.append(temp)\n"
      ],
      "metadata": {
        "id": "SUrGDUhztWKE"
      },
      "execution_count": 15,
      "outputs": []
    },
    {
      "cell_type": "markdown",
      "source": [
        "Q10. Write a program to find the smallest number using a stack."
      ],
      "metadata": {
        "id": "DD81Tm5itm4j"
      }
    },
    {
      "cell_type": "code",
      "source": [
        "def smallest_number_in_stack(stack):\n",
        "    if not stack:\n",
        "        return None\n",
        "    min_num = stack.pop()\n",
        "    while stack:\n",
        "        num = stack.pop()\n",
        "        if num < min_num:\n",
        "            min_num = num\n",
        "    return min_num\n"
      ],
      "metadata": {
        "id": "1kvfVauZtkAh"
      },
      "execution_count": 16,
      "outputs": []
    }
  ]
}